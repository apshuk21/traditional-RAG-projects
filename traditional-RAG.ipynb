{
 "cells": [
  {
   "cell_type": "markdown",
   "id": "e71f32b8",
   "metadata": {},
   "source": [
    "## Data ingestion steps:\n",
    "1. load the pdf\n",
    "2. split the pdf"
   ]
  },
  {
   "cell_type": "code",
   "execution_count": 2,
   "id": "b96d7202",
   "metadata": {},
   "outputs": [],
   "source": [
    "from langchain_community.document_loaders import PyPDFLoader\n",
    "loader = PyPDFLoader('./files/computer-vision.pdf')"
   ]
  },
  {
   "cell_type": "code",
   "execution_count": 3,
   "id": "a7da20ed",
   "metadata": {},
   "outputs": [
    {
     "name": "stdout",
     "output_type": "stream",
     "text": [
      "arXiv:2506.03150v1  [cs.CV]  3 Jun 2025\n",
      "IllumiCraft: Unified Geometry and Illumination\n",
      "Diffusion for Controllable Video Generation\n",
      "Yuanze Lin♣ Yi-Wen Chen♮ Yi-Hsuan Tsai♢\n",
      "Ronald Clark♣ Ming-Hsuan Yang♠♡\n",
      "♣University of Oxford ♠UC Merced ♮NEC Labs America ♢Atmanity Inc. ♡Google DeepMind\n",
      "Project Page: https://yuanze-lin.me/IllumiCraft_page\n",
      "Input  Video          Background                                      Relit  Video  Frames        \n",
      "“...,  strong lighting”\n",
      "“..., cool-blue spotlights pierce mist, moody depth”\n",
      "“..., natural light”\n",
      "“..., bright white spotlights cut through grey haze, stark contrast”\n",
      "Figure 1: Given a prompt and input video, IllumiCraft edits scene illumination conditioned on the\n",
      "static background image. It handles a variety of illumination scenarios, including spotlight effects.\n",
      "Abstract\n",
      "Although diffusion-based models can generate high-quality and high-resolution\n",
      "video sequences from textual or image inputs, they lack explicit integration of geo-\n",
      "metric cues when controlling scene lighting and visual appearance across frames.\n",
      "To address this limitation, we propose IllumiCraft, an end-to-end diffusion frame-\n",
      "work accepting three complementary inputs: (1) high-dynamic-range (HDR) video\n",
      "Preprint.\n"
     ]
    }
   ],
   "source": [
    "docs = loader.load()\n",
    "print(docs[0].page_content)"
   ]
  },
  {
   "cell_type": "code",
   "execution_count": 4,
   "id": "5bbf1522",
   "metadata": {},
   "outputs": [
    {
     "name": "stdout",
     "output_type": "stream",
     "text": [
      "25\n"
     ]
    }
   ],
   "source": [
    "print(len(docs))"
   ]
  },
  {
   "cell_type": "code",
   "execution_count": 5,
   "id": "8a9a75e2",
   "metadata": {},
   "outputs": [
    {
     "name": "stdout",
     "output_type": "stream",
     "text": [
      "130\n"
     ]
    }
   ],
   "source": [
    "from langchain_text_splitters import RecursiveCharacterTextSplitter\n",
    "text_splitter = RecursiveCharacterTextSplitter(\n",
    "    chunk_size=500,\n",
    "    chunk_overlap=50\n",
    ")\n",
    "\n",
    "final_docs = text_splitter.split_documents(docs)\n",
    "print(len(final_docs))"
   ]
  },
  {
   "cell_type": "markdown",
   "id": "4acf84dd",
   "metadata": {},
   "source": [
    "## Create embeddings"
   ]
  },
  {
   "cell_type": "code",
   "execution_count": 6,
   "id": "7a86a413",
   "metadata": {},
   "outputs": [
    {
     "name": "stdout",
     "output_type": "stream",
     "text": [
      "1024\n"
     ]
    }
   ],
   "source": [
    "from langchain_openai import OpenAIEmbeddings\n",
    "embeddings = OpenAIEmbeddings(model=\"text-embedding-3-small\", dimensions=1024)\n",
    "\n",
    "doc_embeddings = embeddings.embed_query(final_docs[0].page_content)\n",
    "print(len(doc_embeddings))"
   ]
  },
  {
   "cell_type": "markdown",
   "id": "040caa11",
   "metadata": {},
   "source": [
    "## Adding the data to the vector store\n",
    "We always need to care about 2 things in a vector store:\n",
    "1. Index\n",
    "2. similarity_search"
   ]
  },
  {
   "cell_type": "code",
   "execution_count": 7,
   "id": "9277f95f",
   "metadata": {},
   "outputs": [],
   "source": [
    "import faiss\n",
    "from langchain_community.vectorstores import FAISS\n",
    "from langchain_community.docstore.in_memory import InMemoryDocstore\n",
    "\n",
    "index = faiss.IndexFlatL2(1024)\n"
   ]
  },
  {
   "cell_type": "code",
   "execution_count": 8,
   "id": "d5cff783",
   "metadata": {},
   "outputs": [],
   "source": [
    "vector_store = FAISS(\n",
    "    embedding_function=embeddings,\n",
    "    index=index,\n",
    "    docstore=InMemoryDocstore(),\n",
    "    index_to_docstore_id={}\n",
    ")"
   ]
  },
  {
   "cell_type": "code",
   "execution_count": 9,
   "id": "5d745b1c",
   "metadata": {},
   "outputs": [
    {
     "name": "stdout",
     "output_type": "stream",
     "text": [
      "130\n"
     ]
    }
   ],
   "source": [
    "add_docs_result = vector_store.add_documents(final_docs)\n",
    "print(len(add_docs_result))"
   ]
  },
  {
   "cell_type": "code",
   "execution_count": 10,
   "id": "0752de8c",
   "metadata": {},
   "outputs": [
    {
     "name": "stdout",
     "output_type": "stream",
     "text": [
      "dict_keys([0, 1, 2, 3, 4, 5, 6, 7, 8, 9, 10, 11, 12, 13, 14, 15, 16, 17, 18, 19, 20, 21, 22, 23, 24, 25, 26, 27, 28, 29, 30, 31, 32, 33, 34, 35, 36, 37, 38, 39, 40, 41, 42, 43, 44, 45, 46, 47, 48, 49, 50, 51, 52, 53, 54, 55, 56, 57, 58, 59, 60, 61, 62, 63, 64, 65, 66, 67, 68, 69, 70, 71, 72, 73, 74, 75, 76, 77, 78, 79, 80, 81, 82, 83, 84, 85, 86, 87, 88, 89, 90, 91, 92, 93, 94, 95, 96, 97, 98, 99, 100, 101, 102, 103, 104, 105, 106, 107, 108, 109, 110, 111, 112, 113, 114, 115, 116, 117, 118, 119, 120, 121, 122, 123, 124, 125, 126, 127, 128, 129])\n"
     ]
    }
   ],
   "source": [
    "docstore_ids = vector_store.index_to_docstore_id\n",
    "print(vector_store.index_to_docstore_id.keys())"
   ]
  },
  {
   "cell_type": "code",
   "execution_count": 11,
   "id": "9a622676",
   "metadata": {},
   "outputs": [
    {
     "name": "stdout",
     "output_type": "stream",
     "text": [
      "[Document(id='cab2ea4d-7cbf-400a-84c6-0e57df169268', metadata={'producer': 'pikepdf 8.15.1', 'creator': 'arXiv GenPDF (tex2pdf:74238ef)', 'creationdate': '', 'author': 'Yuanze Lin; Yi-Wen Chen; Yi-Hsuan Tsai; Ronald Clark; Ming-Hsuan Yang', 'doi': 'https://doi.org/10.48550/arXiv.2506.03150', 'license': 'http://arxiv.org/licenses/nonexclusive-distrib/1.0/', 'ptex.fullbanner': 'This is pdfTeX, Version 3.141592653-2.6-1.40.25 (TeX Live 2023) kpathsea version 6.3.5', 'title': 'IllumiCraft: Unified Geometry and Illumination Diffusion for Controllable Video Generation', 'trapped': '/False', 'arxivid': 'https://arxiv.org/abs/2506.03150v1', 'source': './files/computer-vision.pdf', 'total_pages': 25, 'page': 21, 'page_label': '22'}, page_content='“Adark wooden desk, …, soft-edged white beams overlapping on a cyan backdrop”\\n“A stationary airplane wing, …, crisp bright spotlights, minimal, neutral-gallery atmosphere”\\nOurs            Background       Input Video                    Ours            Background       Input Video\\nFigure 13: Visual results of IllumiCraft. Our method produces high-fidelity, prompt-aligned videos\\nthat adapt to diverse lighting conditions, including dramatic spotlight effects.\\n22'), Document(id='50221ed2-8fe5-42f6-8e04-d9cfb99d4bb7', metadata={'producer': 'pikepdf 8.15.1', 'creator': 'arXiv GenPDF (tex2pdf:74238ef)', 'creationdate': '', 'author': 'Yuanze Lin; Yi-Wen Chen; Yi-Hsuan Tsai; Ronald Clark; Ming-Hsuan Yang', 'doi': 'https://doi.org/10.48550/arXiv.2506.03150', 'license': 'http://arxiv.org/licenses/nonexclusive-distrib/1.0/', 'ptex.fullbanner': 'This is pdfTeX, Version 3.141592653-2.6-1.40.25 (TeX Live 2023) kpathsea version 6.3.5', 'title': 'IllumiCraft: Unified Geometry and Illumination Diffusion for Controllable Video Generation', 'trapped': '/False', 'arxivid': 'https://arxiv.org/abs/2506.03150v1', 'source': './files/computer-vision.pdf', 'total_pages': 25, 'page': 20, 'page_label': '21'}, page_content='“Two cheerful young girls, …, broad cool-teal wash, a tranquil, moody spotlight effect”\\n“A two-tiered round wooden table, …, slender white spotlights, an eerie, suspenseful scene”\\nOurs            Background       Input Video                    Ours            Background       Input Video\\nFigure 12: Visual results of IllumiCraft. Our method produces high-fidelity, prompt-aligned videos\\nthat adapt to diverse lighting conditions, including dramatic spotlight effects.\\n21'), Document(id='ecbd7425-575d-47b1-97af-ef18a0b9100b', metadata={'producer': 'pikepdf 8.15.1', 'creator': 'arXiv GenPDF (tex2pdf:74238ef)', 'creationdate': '', 'author': 'Yuanze Lin; Yi-Wen Chen; Yi-Hsuan Tsai; Ronald Clark; Ming-Hsuan Yang', 'doi': 'https://doi.org/10.48550/arXiv.2506.03150', 'license': 'http://arxiv.org/licenses/nonexclusive-distrib/1.0/', 'ptex.fullbanner': 'This is pdfTeX, Version 3.141592653-2.6-1.40.25 (TeX Live 2023) kpathsea version 6.3.5', 'title': 'IllumiCraft: Unified Geometry and Illumination Diffusion for Controllable Video Generation', 'trapped': '/False', 'arxivid': 'https://arxiv.org/abs/2506.03150v1', 'source': './files/computer-vision.pdf', 'total_pages': 25, 'page': 15, 'page_label': '16'}, page_content='“An ancient stone castle on an island, …, bright chalky spotlight in misty blue haze”\\n“branch of an apple tree in full bloom, …, towering LED floodlight,stark snowy illumination”\\nOurs            Background       Input Video                    Ours            Background       Input Video\\nFigure 8: Failure cases of IllumiCraft. We show the failure cases generated by our method.\\nTable 8: Effect of dropping the reference image\\n(text-only).\\nPossibility FVD (↓) TA ( ↑) TC ( ↑)\\n5% 2232.46 0.3331 0.9939')]\n",
      "page_content='“Adark wooden desk, …, soft-edged white beams overlapping on a cyan backdrop”\n",
      "“A stationary airplane wing, …, crisp bright spotlights, minimal, neutral-gallery atmosphere”\n",
      "Ours            Background       Input Video                    Ours            Background       Input Video\n",
      "Figure 13: Visual results of IllumiCraft. Our method produces high-fidelity, prompt-aligned videos\n",
      "that adapt to diverse lighting conditions, including dramatic spotlight effects.\n",
      "22' metadata={'producer': 'pikepdf 8.15.1', 'creator': 'arXiv GenPDF (tex2pdf:74238ef)', 'creationdate': '', 'author': 'Yuanze Lin; Yi-Wen Chen; Yi-Hsuan Tsai; Ronald Clark; Ming-Hsuan Yang', 'doi': 'https://doi.org/10.48550/arXiv.2506.03150', 'license': 'http://arxiv.org/licenses/nonexclusive-distrib/1.0/', 'ptex.fullbanner': 'This is pdfTeX, Version 3.141592653-2.6-1.40.25 (TeX Live 2023) kpathsea version 6.3.5', 'title': 'IllumiCraft: Unified Geometry and Illumination Diffusion for Controllable Video Generation', 'trapped': '/False', 'arxivid': 'https://arxiv.org/abs/2506.03150v1', 'source': './files/computer-vision.pdf', 'total_pages': 25, 'page': 21, 'page_label': '22'}\n",
      "\n",
      "\n",
      "\n",
      "page_content='“Two cheerful young girls, …, broad cool-teal wash, a tranquil, moody spotlight effect”\n",
      "“A two-tiered round wooden table, …, slender white spotlights, an eerie, suspenseful scene”\n",
      "Ours            Background       Input Video                    Ours            Background       Input Video\n",
      "Figure 12: Visual results of IllumiCraft. Our method produces high-fidelity, prompt-aligned videos\n",
      "that adapt to diverse lighting conditions, including dramatic spotlight effects.\n",
      "21' metadata={'producer': 'pikepdf 8.15.1', 'creator': 'arXiv GenPDF (tex2pdf:74238ef)', 'creationdate': '', 'author': 'Yuanze Lin; Yi-Wen Chen; Yi-Hsuan Tsai; Ronald Clark; Ming-Hsuan Yang', 'doi': 'https://doi.org/10.48550/arXiv.2506.03150', 'license': 'http://arxiv.org/licenses/nonexclusive-distrib/1.0/', 'ptex.fullbanner': 'This is pdfTeX, Version 3.141592653-2.6-1.40.25 (TeX Live 2023) kpathsea version 6.3.5', 'title': 'IllumiCraft: Unified Geometry and Illumination Diffusion for Controllable Video Generation', 'trapped': '/False', 'arxivid': 'https://arxiv.org/abs/2506.03150v1', 'source': './files/computer-vision.pdf', 'total_pages': 25, 'page': 20, 'page_label': '21'}\n",
      "\n",
      "\n",
      "\n",
      "page_content='“An ancient stone castle on an island, …, bright chalky spotlight in misty blue haze”\n",
      "“branch of an apple tree in full bloom, …, towering LED floodlight,stark snowy illumination”\n",
      "Ours            Background       Input Video                    Ours            Background       Input Video\n",
      "Figure 8: Failure cases of IllumiCraft. We show the failure cases generated by our method.\n",
      "Table 8: Effect of dropping the reference image\n",
      "(text-only).\n",
      "Possibility FVD (↓) TA ( ↑) TC ( ↑)\n",
      "5% 2232.46 0.3331 0.9939' metadata={'producer': 'pikepdf 8.15.1', 'creator': 'arXiv GenPDF (tex2pdf:74238ef)', 'creationdate': '', 'author': 'Yuanze Lin; Yi-Wen Chen; Yi-Hsuan Tsai; Ronald Clark; Ming-Hsuan Yang', 'doi': 'https://doi.org/10.48550/arXiv.2506.03150', 'license': 'http://arxiv.org/licenses/nonexclusive-distrib/1.0/', 'ptex.fullbanner': 'This is pdfTeX, Version 3.141592653-2.6-1.40.25 (TeX Live 2023) kpathsea version 6.3.5', 'title': 'IllumiCraft: Unified Geometry and Illumination Diffusion for Controllable Video Generation', 'trapped': '/False', 'arxivid': 'https://arxiv.org/abs/2506.03150v1', 'source': './files/computer-vision.pdf', 'total_pages': 25, 'page': 15, 'page_label': '16'}\n",
      "\n",
      "\n",
      "\n"
     ]
    }
   ],
   "source": [
    "search_results = vector_store.similarity_search(\"A dark wooden desk\", k=3)\n",
    "print(search_results)\n",
    "\n",
    "for doc in search_results:\n",
    "    print(doc)\n",
    "    print('\\n\\n')"
   ]
  },
  {
   "cell_type": "code",
   "execution_count": 12,
   "id": "aeec7cd3",
   "metadata": {},
   "outputs": [],
   "source": [
    "retriever = vector_store.as_retriever(search_kwargs={\"k\": 3})"
   ]
  },
  {
   "cell_type": "code",
   "execution_count": 13,
   "id": "b1c31c99",
   "metadata": {},
   "outputs": [
    {
     "name": "stdout",
     "output_type": "stream",
     "text": [
      "page_content='“Adark wooden desk, …, soft-edged white beams overlapping on a cyan backdrop”\n",
      "“A stationary airplane wing, …, crisp bright spotlights, minimal, neutral-gallery atmosphere”\n",
      "Ours            Background       Input Video                    Ours            Background       Input Video\n",
      "Figure 13: Visual results of IllumiCraft. Our method produces high-fidelity, prompt-aligned videos\n",
      "that adapt to diverse lighting conditions, including dramatic spotlight effects.\n",
      "22' metadata={'producer': 'pikepdf 8.15.1', 'creator': 'arXiv GenPDF (tex2pdf:74238ef)', 'creationdate': '', 'author': 'Yuanze Lin; Yi-Wen Chen; Yi-Hsuan Tsai; Ronald Clark; Ming-Hsuan Yang', 'doi': 'https://doi.org/10.48550/arXiv.2506.03150', 'license': 'http://arxiv.org/licenses/nonexclusive-distrib/1.0/', 'ptex.fullbanner': 'This is pdfTeX, Version 3.141592653-2.6-1.40.25 (TeX Live 2023) kpathsea version 6.3.5', 'title': 'IllumiCraft: Unified Geometry and Illumination Diffusion for Controllable Video Generation', 'trapped': '/False', 'arxivid': 'https://arxiv.org/abs/2506.03150v1', 'source': './files/computer-vision.pdf', 'total_pages': 25, 'page': 21, 'page_label': '22'}\n",
      "\n",
      "\n",
      "\n",
      "page_content='“Two cheerful young girls, …, broad cool-teal wash, a tranquil, moody spotlight effect”\n",
      "“A two-tiered round wooden table, …, slender white spotlights, an eerie, suspenseful scene”\n",
      "Ours            Background       Input Video                    Ours            Background       Input Video\n",
      "Figure 12: Visual results of IllumiCraft. Our method produces high-fidelity, prompt-aligned videos\n",
      "that adapt to diverse lighting conditions, including dramatic spotlight effects.\n",
      "21' metadata={'producer': 'pikepdf 8.15.1', 'creator': 'arXiv GenPDF (tex2pdf:74238ef)', 'creationdate': '', 'author': 'Yuanze Lin; Yi-Wen Chen; Yi-Hsuan Tsai; Ronald Clark; Ming-Hsuan Yang', 'doi': 'https://doi.org/10.48550/arXiv.2506.03150', 'license': 'http://arxiv.org/licenses/nonexclusive-distrib/1.0/', 'ptex.fullbanner': 'This is pdfTeX, Version 3.141592653-2.6-1.40.25 (TeX Live 2023) kpathsea version 6.3.5', 'title': 'IllumiCraft: Unified Geometry and Illumination Diffusion for Controllable Video Generation', 'trapped': '/False', 'arxivid': 'https://arxiv.org/abs/2506.03150v1', 'source': './files/computer-vision.pdf', 'total_pages': 25, 'page': 20, 'page_label': '21'}\n",
      "\n",
      "\n",
      "\n",
      "page_content='“An ancient stone castle on an island, …, bright chalky spotlight in misty blue haze”\n",
      "“branch of an apple tree in full bloom, …, towering LED floodlight,stark snowy illumination”\n",
      "Ours            Background       Input Video                    Ours            Background       Input Video\n",
      "Figure 8: Failure cases of IllumiCraft. We show the failure cases generated by our method.\n",
      "Table 8: Effect of dropping the reference image\n",
      "(text-only).\n",
      "Possibility FVD (↓) TA ( ↑) TC ( ↑)\n",
      "5% 2232.46 0.3331 0.9939' metadata={'producer': 'pikepdf 8.15.1', 'creator': 'arXiv GenPDF (tex2pdf:74238ef)', 'creationdate': '', 'author': 'Yuanze Lin; Yi-Wen Chen; Yi-Hsuan Tsai; Ronald Clark; Ming-Hsuan Yang', 'doi': 'https://doi.org/10.48550/arXiv.2506.03150', 'license': 'http://arxiv.org/licenses/nonexclusive-distrib/1.0/', 'ptex.fullbanner': 'This is pdfTeX, Version 3.141592653-2.6-1.40.25 (TeX Live 2023) kpathsea version 6.3.5', 'title': 'IllumiCraft: Unified Geometry and Illumination Diffusion for Controllable Video Generation', 'trapped': '/False', 'arxivid': 'https://arxiv.org/abs/2506.03150v1', 'source': './files/computer-vision.pdf', 'total_pages': 25, 'page': 15, 'page_label': '16'}\n",
      "\n",
      "\n",
      "\n"
     ]
    }
   ],
   "source": [
    "retrieved_results = retriever.invoke(\"A dark wooden desk\")\n",
    "# print(retrieved_results)\n",
    "\n",
    "for doc in retrieved_results:\n",
    "    print(doc)\n",
    "    print('\\n\\n')"
   ]
  },
  {
   "cell_type": "markdown",
   "id": "51cdbdc5",
   "metadata": {},
   "source": [
    "## Data retrieval pipeline\n",
    "1. User query should retrieve the context from the vector store\n",
    "2. Update the prompt with the query and context\n",
    "3. Send the input to the LLM and generate the output."
   ]
  },
  {
   "cell_type": "code",
   "execution_count": 14,
   "id": "02815bc7",
   "metadata": {},
   "outputs": [],
   "source": [
    "def format_docs(docs):\n",
    "    return \"\\n\\n\".join(doc.page_content for doc in docs)"
   ]
  },
  {
   "cell_type": "code",
   "execution_count": 15,
   "id": "7e20a12c",
   "metadata": {},
   "outputs": [
    {
     "data": {
      "text/plain": [
       "True"
      ]
     },
     "execution_count": 15,
     "metadata": {},
     "output_type": "execute_result"
    }
   ],
   "source": [
    "from dotenv import load_dotenv\n",
    "import os\n",
    "load_dotenv()"
   ]
  },
  {
   "cell_type": "code",
   "execution_count": 16,
   "id": "99d0e3a7",
   "metadata": {},
   "outputs": [],
   "source": [
    "os.environ['GROQ_API_KEY'] = os.getenv('GROQ_API_KEY')"
   ]
  },
  {
   "cell_type": "code",
   "execution_count": 17,
   "id": "e8b67799",
   "metadata": {},
   "outputs": [],
   "source": [
    "from langchain_groq import ChatGroq\n",
    "llm = ChatGroq(model='qwen-qwq-32b')"
   ]
  },
  {
   "cell_type": "code",
   "execution_count": 18,
   "id": "9689800f",
   "metadata": {},
   "outputs": [],
   "source": [
    "from langchain_core.output_parsers import StrOutputParser\n",
    "from langchain_core.prompts import ChatPromptTemplate\n",
    "from langchain_core.runnables import RunnablePassthrough\n",
    "\n",
    "prompt = ChatPromptTemplate.from_messages([\n",
    "    ('system', \"\"\"\n",
    "        You are an assistant for question-answering tasks. Use the following pieces of retrieved context to answer the question.\n",
    "        If you don't know the answer, just say that you don't know.\n",
    "        Use three sentences maximum and keep the answer concise.\\nQuestion: {question} \\nContext: {context} \\nAnswer:\n",
    "        \"\"\"\n",
    "    )\n",
    "])\n"
   ]
  },
  {
   "cell_type": "code",
   "execution_count": 19,
   "id": "bd5ba951",
   "metadata": {},
   "outputs": [],
   "source": [
    "rag_chain = (\n",
    "    { \"context\": retriever | format_docs, \"question\": RunnablePassthrough() }\n",
    "    | prompt\n",
    "    | llm\n",
    "    | StrOutputParser()\n",
    ")"
   ]
  },
  {
   "cell_type": "code",
   "execution_count": 20,
   "id": "269888a0",
   "metadata": {},
   "outputs": [
    {
     "name": "stdout",
     "output_type": "stream",
     "text": [
      "('\\n'\n",
      " '<think>\\n'\n",
      " \"Okay, let's see. The question is asking about who Apoorva Shukla is. The \"\n",
      " 'user provided some context from academic papers, but looking through the '\n",
      " \"entries, I don't see any mention of Apoorva Shukla in the listed references. \"\n",
      " 'The authors listed include names like Nam, Lee, Gutierrez, Kim, Zhang, Luan, '\n",
      " \"Wang, Bala, Snavely, and others, but no Shukla. Maybe there's a typo or \"\n",
      " \"maybe the context provided doesn't include their work. Since none of the \"\n",
      " \"cited papers mention Apoorva Shukla, I can't find any information here. I \"\n",
      " \"should inform the user that the answer isn't available with the given \"\n",
      " 'context.\\n'\n",
      " '</think>\\n'\n",
      " '\\n'\n",
      " \"I don't know. The provided context does not mention Apoorva Shukla, and none \"\n",
      " 'of the cited papers or authors listed here include them.')\n"
     ]
    }
   ],
   "source": [
    "from pprint import pprint\n",
    "llm_out = rag_chain.invoke(\"Who is Apoorva Shukla\")\n",
    "pprint(llm_out)\n"
   ]
  },
  {
   "cell_type": "markdown",
   "id": "4e339ff5",
   "metadata": {},
   "source": [
    "Catwithhorseinstaple@17"
   ]
  }
 ],
 "metadata": {
  "kernelspec": {
   "display_name": "Python 3",
   "language": "python",
   "name": "python3"
  },
  "language_info": {
   "codemirror_mode": {
    "name": "ipython",
    "version": 3
   },
   "file_extension": ".py",
   "mimetype": "text/x-python",
   "name": "python",
   "nbconvert_exporter": "python",
   "pygments_lexer": "ipython3",
   "version": "3.13.2"
  }
 },
 "nbformat": 4,
 "nbformat_minor": 5
}
